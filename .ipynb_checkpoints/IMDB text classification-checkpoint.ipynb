{
 "cells": [
  {
   "cell_type": "code",
   "execution_count": 1,
   "metadata": {},
   "outputs": [
    {
     "name": "stdout",
     "output_type": "stream",
     "text": [
      "1.12.0\n"
     ]
    }
   ],
   "source": [
    "from __future__ import absolute_import, division, print_function\n",
    "\n",
    "import tensorflow as tf\n",
    "from tensorflow import keras\n",
    "\n",
    "import numpy as np\n",
    "\n",
    "print(tf.__version__)"
   ]
  },
  {
   "cell_type": "code",
   "execution_count": 2,
   "metadata": {},
   "outputs": [
    {
     "name": "stdout",
     "output_type": "stream",
     "text": [
      "Downloading data from https://storage.googleapis.com/tensorflow/tf-keras-datasets/imdb.npz\n",
      "17465344/17464789 [==============================] - 3s 0us/step\n"
     ]
    }
   ],
   "source": [
    "imdb = keras.datasets.imdb\n",
    "\n",
    "(train_data, train_labels), (test_data, test_labels) = imdb.load_data(num_words=10000)"
   ]
  },
  {
   "cell_type": "code",
   "execution_count": 3,
   "metadata": {},
   "outputs": [
    {
     "name": "stdout",
     "output_type": "stream",
     "text": [
      "Training entries: 25000, labels: 25000\n"
     ]
    }
   ],
   "source": [
    "print(\"Training entries: {}, labels: {}\".format(len(train_data), len(train_labels)))"
   ]
  },
  {
   "cell_type": "code",
   "execution_count": 4,
   "metadata": {},
   "outputs": [
    {
     "name": "stdout",
     "output_type": "stream",
     "text": [
      "[1, 14, 22, 16, 43, 530, 973, 1622, 1385, 65, 458, 4468, 66, 3941, 4, 173, 36, 256, 5, 25, 100, 43, 838, 112, 50, 670, 2, 9, 35, 480, 284, 5, 150, 4, 172, 112, 167, 2, 336, 385, 39, 4, 172, 4536, 1111, 17, 546, 38, 13, 447, 4, 192, 50, 16, 6, 147, 2025, 19, 14, 22, 4, 1920, 4613, 469, 4, 22, 71, 87, 12, 16, 43, 530, 38, 76, 15, 13, 1247, 4, 22, 17, 515, 17, 12, 16, 626, 18, 2, 5, 62, 386, 12, 8, 316, 8, 106, 5, 4, 2223, 5244, 16, 480, 66, 3785, 33, 4, 130, 12, 16, 38, 619, 5, 25, 124, 51, 36, 135, 48, 25, 1415, 33, 6, 22, 12, 215, 28, 77, 52, 5, 14, 407, 16, 82, 2, 8, 4, 107, 117, 5952, 15, 256, 4, 2, 7, 3766, 5, 723, 36, 71, 43, 530, 476, 26, 400, 317, 46, 7, 4, 2, 1029, 13, 104, 88, 4, 381, 15, 297, 98, 32, 2071, 56, 26, 141, 6, 194, 7486, 18, 4, 226, 22, 21, 134, 476, 26, 480, 5, 144, 30, 5535, 18, 51, 36, 28, 224, 92, 25, 104, 4, 226, 65, 16, 38, 1334, 88, 12, 16, 283, 5, 16, 4472, 113, 103, 32, 15, 16, 5345, 19, 178, 32]\n"
     ]
    }
   ],
   "source": [
    "print(train_data[0])"
   ]
  },
  {
   "cell_type": "code",
   "execution_count": 5,
   "metadata": {},
   "outputs": [
    {
     "name": "stdout",
     "output_type": "stream",
     "text": [
      "Downloading data from https://storage.googleapis.com/tensorflow/tf-keras-datasets/imdb_word_index.json\n",
      "1646592/1641221 [==============================] - 0s 0us/step\n"
     ]
    }
   ],
   "source": [
    "# A dictionary mapping words to an integer index\n",
    "word_index = imdb.get_word_index()\n",
    "\n",
    "# The first indices are reserved\n",
    "word_index = {k:(v+3) for k,v in word_index.items()} \n",
    "word_index[\"<PAD>\"] = 0\n",
    "word_index[\"<START>\"] = 1\n",
    "word_index[\"<UNK>\"] = 2  # unknown\n",
    "word_index[\"<UNUSED>\"] = 3\n",
    "\n",
    "reverse_word_index = dict([(value, key) for (key, value) in word_index.items()])\n",
    "\n",
    "def decode_review(text):\n",
    "    return ' '.join([reverse_word_index.get(i, '?') for i in text])"
   ]
  },
  {
   "cell_type": "code",
   "execution_count": 6,
   "metadata": {},
   "outputs": [
    {
     "data": {
      "text/plain": [
       "\"<START> this film was just brilliant casting location scenery story direction everyone's really suited the part they played and you could just imagine being there robert <UNK> is an amazing actor and now the same being director <UNK> father came from the same scottish island as myself so i loved the fact there was a real connection with this film the witty remarks throughout the film were great it was just brilliant so much that i bought the film as soon as it was released for <UNK> and would recommend it to everyone to watch and the fly fishing was amazing really cried at the end it was so sad and you know what they say if you cry at a film it must have been good and this definitely was also <UNK> to the two little boy's that played the <UNK> of norman and paul they were just brilliant children are often left out of the <UNK> list i think because the stars that play them all grown up are such a big profile for the whole film but these children are amazing and should be praised for what they have done don't you think the whole story was so lovely because it was true and was someone's life after all that was shared with us all\""
      ]
     },
     "execution_count": 6,
     "metadata": {},
     "output_type": "execute_result"
    }
   ],
   "source": [
    "decode_review(train_data[0])"
   ]
  },
  {
   "cell_type": "code",
   "execution_count": 7,
   "metadata": {},
   "outputs": [],
   "source": [
    "train_data = keras.preprocessing.sequence.pad_sequences(train_data,\n",
    "                                                        value=word_index[\"<PAD>\"],\n",
    "                                                        padding='post',\n",
    "                                                        maxlen=256)\n",
    "\n",
    "test_data = keras.preprocessing.sequence.pad_sequences(test_data,\n",
    "                                                       value=word_index[\"<PAD>\"],\n",
    "                                                       padding='post',\n",
    "                                                       maxlen=256)"
   ]
  },
  {
   "cell_type": "code",
   "execution_count": 8,
   "metadata": {},
   "outputs": [
    {
     "name": "stdout",
     "output_type": "stream",
     "text": [
      "_________________________________________________________________\n",
      "Layer (type)                 Output Shape              Param #   \n",
      "=================================================================\n",
      "embedding (Embedding)        (None, None, 16)          160000    \n",
      "_________________________________________________________________\n",
      "global_average_pooling1d (Gl (None, 16)                0         \n",
      "_________________________________________________________________\n",
      "dense (Dense)                (None, 16)                272       \n",
      "_________________________________________________________________\n",
      "dense_1 (Dense)              (None, 1)                 17        \n",
      "=================================================================\n",
      "Total params: 160,289\n",
      "Trainable params: 160,289\n",
      "Non-trainable params: 0\n",
      "_________________________________________________________________\n"
     ]
    }
   ],
   "source": [
    "# input shape is the vocabulary count used for the movie reviews (10,000 words)\n",
    "vocab_size = 10000\n",
    "\n",
    "model = keras.Sequential()\n",
    "model.add(keras.layers.Embedding(vocab_size, 16))\n",
    "model.add(keras.layers.GlobalAveragePooling1D())\n",
    "model.add(keras.layers.Dense(16, activation=tf.nn.relu))\n",
    "model.add(keras.layers.Dense(1, activation=tf.nn.sigmoid))\n",
    "\n",
    "model.summary()"
   ]
  },
  {
   "cell_type": "code",
   "execution_count": 9,
   "metadata": {},
   "outputs": [],
   "source": [
    "model.compile(optimizer='adam',\n",
    "              loss='binary_crossentropy',\n",
    "              metrics=['acc'])"
   ]
  },
  {
   "cell_type": "code",
   "execution_count": 10,
   "metadata": {},
   "outputs": [],
   "source": [
    "x_val = train_data[:10000]\n",
    "partial_x_train = train_data[10000:]\n",
    "\n",
    "y_val = train_labels[:10000]\n",
    "partial_y_train = train_labels[10000:]"
   ]
  },
  {
   "cell_type": "code",
   "execution_count": 11,
   "metadata": {},
   "outputs": [
    {
     "name": "stderr",
     "output_type": "stream",
     "text": [
      "/home/tf/.local/lib/python3.6/site-packages/tensorflow/python/ops/gradients_impl.py:112: UserWarning: Converting sparse IndexedSlices to a dense Tensor of unknown shape. This may consume a large amount of memory.\n",
      "  \"Converting sparse IndexedSlices to a dense Tensor of unknown shape. \"\n"
     ]
    },
    {
     "name": "stdout",
     "output_type": "stream",
     "text": [
      "Train on 15000 samples, validate on 10000 samples\n",
      "Epoch 1/40\n",
      "15000/15000 [==============================] - 5s 340us/step - loss: 0.6920 - acc: 0.5539 - val_loss: 0.6899 - val_acc: 0.5676\n",
      "Epoch 2/40\n",
      "15000/15000 [==============================] - 2s 139us/step - loss: 0.6854 - acc: 0.6383 - val_loss: 0.6808 - val_acc: 0.7211\n",
      "Epoch 3/40\n",
      "15000/15000 [==============================] - 2s 120us/step - loss: 0.6716 - acc: 0.7319 - val_loss: 0.6637 - val_acc: 0.7354\n",
      "Epoch 4/40\n",
      "15000/15000 [==============================] - 2s 118us/step - loss: 0.6476 - acc: 0.7652 - val_loss: 0.6374 - val_acc: 0.7515\n",
      "Epoch 5/40\n",
      "15000/15000 [==============================] - 1s 82us/step - loss: 0.6132 - acc: 0.7888 - val_loss: 0.6010 - val_acc: 0.7835\n",
      "Epoch 6/40\n",
      "15000/15000 [==============================] - 1s 94us/step - loss: 0.5707 - acc: 0.8114 - val_loss: 0.5599 - val_acc: 0.8058\n",
      "Epoch 7/40\n",
      "15000/15000 [==============================] - 1s 81us/step - loss: 0.5237 - acc: 0.8321 - val_loss: 0.5171 - val_acc: 0.8222\n",
      "Epoch 8/40\n",
      "15000/15000 [==============================] - 2s 109us/step - loss: 0.4770 - acc: 0.8477 - val_loss: 0.4764 - val_acc: 0.8342\n",
      "Epoch 9/40\n",
      "15000/15000 [==============================] - 1s 87us/step - loss: 0.4343 - acc: 0.8597 - val_loss: 0.4406 - val_acc: 0.8432\n",
      "Epoch 10/40\n",
      "15000/15000 [==============================] - 1s 87us/step - loss: 0.3964 - acc: 0.8727 - val_loss: 0.4110 - val_acc: 0.8507\n",
      "Epoch 11/40\n",
      "15000/15000 [==============================] - 1s 84us/step - loss: 0.3646 - acc: 0.8827 - val_loss: 0.3890 - val_acc: 0.8565\n",
      "Epoch 12/40\n",
      "15000/15000 [==============================] - 1s 94us/step - loss: 0.3382 - acc: 0.8879 - val_loss: 0.3668 - val_acc: 0.8640\n",
      "Epoch 13/40\n",
      "15000/15000 [==============================] - 1s 86us/step - loss: 0.3142 - acc: 0.8946 - val_loss: 0.3516 - val_acc: 0.8679\n",
      "Epoch 14/40\n",
      "15000/15000 [==============================] - 1s 90us/step - loss: 0.2944 - acc: 0.9005 - val_loss: 0.3380 - val_acc: 0.8733\n",
      "Epoch 15/40\n",
      "15000/15000 [==============================] - 1s 81us/step - loss: 0.2772 - acc: 0.9056 - val_loss: 0.3275 - val_acc: 0.8751\n",
      "Epoch 16/40\n",
      "15000/15000 [==============================] - 1s 88us/step - loss: 0.2624 - acc: 0.9097 - val_loss: 0.3188 - val_acc: 0.8770\n",
      "Epoch 17/40\n",
      "15000/15000 [==============================] - 1s 78us/step - loss: 0.2481 - acc: 0.9149 - val_loss: 0.3117 - val_acc: 0.8778\n",
      "Epoch 18/40\n",
      "15000/15000 [==============================] - 1s 90us/step - loss: 0.2358 - acc: 0.9198 - val_loss: 0.3057 - val_acc: 0.8812\n",
      "Epoch 19/40\n",
      "15000/15000 [==============================] - 1s 89us/step - loss: 0.2243 - acc: 0.9233 - val_loss: 0.3008 - val_acc: 0.8811\n",
      "Epoch 20/40\n",
      "15000/15000 [==============================] - 1s 85us/step - loss: 0.2142 - acc: 0.9268 - val_loss: 0.2968 - val_acc: 0.8819\n",
      "Epoch 21/40\n",
      "15000/15000 [==============================] - 1s 84us/step - loss: 0.2044 - acc: 0.9301 - val_loss: 0.2936 - val_acc: 0.8820\n",
      "Epoch 22/40\n",
      "15000/15000 [==============================] - 1s 82us/step - loss: 0.1953 - acc: 0.9347 - val_loss: 0.2913 - val_acc: 0.8829\n",
      "Epoch 23/40\n",
      "15000/15000 [==============================] - 1s 90us/step - loss: 0.1871 - acc: 0.9381 - val_loss: 0.2898 - val_acc: 0.8844\n",
      "Epoch 24/40\n",
      "15000/15000 [==============================] - 1s 85us/step - loss: 0.1789 - acc: 0.9429 - val_loss: 0.2877 - val_acc: 0.8837\n",
      "Epoch 25/40\n",
      "15000/15000 [==============================] - 2s 110us/step - loss: 0.1717 - acc: 0.9453 - val_loss: 0.2865 - val_acc: 0.8850\n",
      "Epoch 26/40\n",
      "15000/15000 [==============================] - 1s 80us/step - loss: 0.1645 - acc: 0.9475 - val_loss: 0.2863 - val_acc: 0.8853\n",
      "Epoch 27/40\n",
      "15000/15000 [==============================] - 1s 75us/step - loss: 0.1584 - acc: 0.9510 - val_loss: 0.2864 - val_acc: 0.8855\n",
      "Epoch 28/40\n",
      "15000/15000 [==============================] - 1s 71us/step - loss: 0.1520 - acc: 0.9535 - val_loss: 0.2860 - val_acc: 0.8865\n",
      "Epoch 29/40\n",
      "15000/15000 [==============================] - 1s 72us/step - loss: 0.1461 - acc: 0.9548 - val_loss: 0.2861 - val_acc: 0.8865\n",
      "Epoch 30/40\n",
      "15000/15000 [==============================] - 1s 73us/step - loss: 0.1410 - acc: 0.9571 - val_loss: 0.2870 - val_acc: 0.8869\n",
      "Epoch 31/40\n",
      "15000/15000 [==============================] - 1s 72us/step - loss: 0.1349 - acc: 0.9601 - val_loss: 0.2882 - val_acc: 0.8853\n",
      "Epoch 32/40\n",
      "15000/15000 [==============================] - 1s 73us/step - loss: 0.1302 - acc: 0.9623 - val_loss: 0.2897 - val_acc: 0.8860\n",
      "Epoch 33/40\n",
      "15000/15000 [==============================] - 1s 75us/step - loss: 0.1246 - acc: 0.9651 - val_loss: 0.2913 - val_acc: 0.8861\n",
      "Epoch 34/40\n",
      "15000/15000 [==============================] - 1s 73us/step - loss: 0.1201 - acc: 0.9664 - val_loss: 0.2932 - val_acc: 0.8860\n",
      "Epoch 35/40\n",
      "15000/15000 [==============================] - 1s 65us/step - loss: 0.1161 - acc: 0.9673 - val_loss: 0.2947 - val_acc: 0.8859\n",
      "Epoch 36/40\n",
      "15000/15000 [==============================] - 1s 67us/step - loss: 0.1111 - acc: 0.9701 - val_loss: 0.2973 - val_acc: 0.8855\n",
      "Epoch 37/40\n",
      "15000/15000 [==============================] - 1s 69us/step - loss: 0.1072 - acc: 0.9709 - val_loss: 0.2998 - val_acc: 0.8851\n",
      "Epoch 38/40\n",
      "15000/15000 [==============================] - 1s 64us/step - loss: 0.1037 - acc: 0.9711 - val_loss: 0.3025 - val_acc: 0.8832\n",
      "Epoch 39/40\n",
      "15000/15000 [==============================] - 1s 67us/step - loss: 0.0993 - acc: 0.9730 - val_loss: 0.3047 - val_acc: 0.8833\n",
      "Epoch 40/40\n",
      "15000/15000 [==============================] - 1s 65us/step - loss: 0.0955 - acc: 0.9751 - val_loss: 0.3075 - val_acc: 0.8834\n"
     ]
    }
   ],
   "source": [
    "history = model.fit(partial_x_train,\n",
    "                    partial_y_train,\n",
    "                    epochs=40,\n",
    "                    batch_size=512,\n",
    "                    validation_data=(x_val, y_val),\n",
    "                    verbose=1)"
   ]
  },
  {
   "cell_type": "code",
   "execution_count": 12,
   "metadata": {},
   "outputs": [
    {
     "name": "stdout",
     "output_type": "stream",
     "text": [
      "25000/25000 [==============================] - 6s 248us/step\n",
      "[0.327317187461853, 0.87256]\n"
     ]
    }
   ],
   "source": [
    "results = model.evaluate(test_data, test_labels)\n",
    "\n",
    "print(results)"
   ]
  },
  {
   "cell_type": "code",
   "execution_count": 13,
   "metadata": {},
   "outputs": [
    {
     "data": {
      "text/plain": [
       "dict_keys(['val_loss', 'val_acc', 'loss', 'acc'])"
      ]
     },
     "execution_count": 13,
     "metadata": {},
     "output_type": "execute_result"
    }
   ],
   "source": [
    "history_dict = history.history\n",
    "history_dict.keys()"
   ]
  },
  {
   "cell_type": "code",
   "execution_count": 14,
   "metadata": {},
   "outputs": [
    {
     "data": {
      "text/plain": [
       "<Figure size 640x480 with 1 Axes>"
      ]
     },
     "metadata": {},
     "output_type": "display_data"
    }
   ],
   "source": [
    "import matplotlib.pyplot as plt\n",
    "\n",
    "acc = history_dict['acc']\n",
    "val_acc = history_dict['val_acc']\n",
    "loss = history_dict['loss']\n",
    "val_loss = history_dict['val_loss']\n",
    "\n",
    "epochs = range(1, len(acc) + 1)\n",
    "\n",
    "# \"bo\" is for \"blue dot\"\n",
    "plt.plot(epochs, loss, 'bo', label='Training loss')\n",
    "# b is for \"solid blue line\"\n",
    "plt.plot(epochs, val_loss, 'b', label='Validation loss')\n",
    "plt.title('Training and validation loss')\n",
    "plt.xlabel('Epochs')\n",
    "plt.ylabel('Loss')\n",
    "plt.legend()\n",
    "\n",
    "plt.show()"
   ]
  },
  {
   "cell_type": "code",
   "execution_count": 15,
   "metadata": {},
   "outputs": [
    {
     "data": {
      "image/png": "[encoded data removed]",
      "text/plain": [
       "<Figure size 432x288 with 1 Axes>"
      ]
     },
     "metadata": {
      "needs_background": "light"
     },
     "output_type": "display_data"
    }
   ],
   "source": [
    "plt.clf()   # clear figure\n",
    "\n",
    "plt.plot(epochs, acc, 'bo', label='Training acc')\n",
    "plt.plot(epochs, val_acc, 'b', label='Validation acc')\n",
    "plt.title('Training and validation accuracy')\n",
    "plt.xlabel('Epochs')\n",
    "plt.ylabel('Accuracy')\n",
    "plt.legend()\n",
    "\n",
    "plt.show()"
   ]
  }
 ],
 "metadata": {
  "kernelspec": {
   "display_name": "Python 3",
   "language": "python",
   "name": "python3"
  },
  "language_info": {
   "codemirror_mode": {
    "name": "ipython",
    "version": 3
   },
   "file_extension": ".py",
   "mimetype": "text/x-python",
   "name": "python",
   "nbconvert_exporter": "python",
   "pygments_lexer": "ipython3",
   "version": "3.6.7"
  }
 },
 "nbformat": 4,
 "nbformat_minor": 2
}
